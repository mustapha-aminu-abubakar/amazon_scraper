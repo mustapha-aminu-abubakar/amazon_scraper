{
 "cells": [
  {
   "cell_type": "markdown",
   "metadata": {},
   "source": [
    "**Importing required modules**"
   ]
  },
  {
   "cell_type": "code",
   "execution_count": 136,
   "metadata": {},
   "outputs": [],
   "source": [
    "import pandas as pd                     #for wrangling data\n",
    "import requests                         #for making http requests to target server\n",
    "import re                               #for regex operations   \n",
    "import numpy as np                      #for wrangling data\n",
    "from datetime import datetime as dt     #for date/time operations                         \n",
    "from bs4 import BeautifulSoup as bs     #for parsing http response"
   ]
  },
  {
   "cell_type": "code",
   "execution_count": 137,
   "metadata": {},
   "outputs": [],
   "source": [
    "def generate_search_keywords():\n",
    "    \"\"\"\n",
    "    Prompts user for search keywords\n",
    "\n",
    "    Returns:\n",
    "        list: [*keywords]\n",
    "    \"\"\"\n",
    "    \n",
    "    keywords = []\n",
    "    while True:\n",
    "        keyword = input(\"Please enter search keyword (Press enter to submit)\")\n",
    "        if len(keyword) > 0: keywords.append(keyword) \n",
    "        else: break\n",
    "    return keywords"
   ]
  },
  {
   "cell_type": "code",
   "execution_count": 138,
   "metadata": {},
   "outputs": [
    {
     "data": {
      "text/plain": [
       "{'pants': 'https://www.amazon.com/s?k=pants&ref=nb_sb_noss',\n",
       " 'sunglasses': 'https://www.amazon.com/s?k=sunglasses&ref=nb_sb_noss'}"
      ]
     },
     "execution_count": 138,
     "metadata": {},
     "output_type": "execute_result"
    }
   ],
   "source": [
    "def generate_search_results(keywords: list):\n",
    "    \"\"\"\n",
    "    Function generates url path(s) to results of search keyword(s) \n",
    "\n",
    "    Args:\n",
    "        keywords (list): contains search keyword(s)\n",
    "\n",
    "    Returns:\n",
    "        dict: ({keyword: url})\n",
    "    \"\"\"\n",
    "    \n",
    "    results = {keyword: f\"https://www.amazon.com/s?k={keyword}&ref=nb_sb_noss\" for keyword in keywords}\n",
    "    return results\n",
    "search = generate_search_results(generate_search_keywords())\n",
    "search"
   ]
  },
  {
   "cell_type": "code",
   "execution_count": null,
   "metadata": {},
   "outputs": [],
   "source": [
    "# url = \"https://www.amazon.com/s?k=watches&ref=nb_sb_noss\"\n",
    "#headers for get\n",
    "\n",
    "headers = {\"User-Agent\": \"Mozilla/5.0 (Windows NT 10.0; Win64; x64) AppleWebKit/537.36 (KHTML, like Gecko) Chrome/130.0.0.0 Safari/537.36\", \n",
    "           \"Accept-Language\": \"en-US,en;q=0.9\", \n",
    "           \n",
    " }"
   ]
  },
  {
   "cell_type": "code",
   "execution_count": 146,
   "metadata": {},
   "outputs": [
    {
     "data": {
      "text/plain": [
       "{'pants_1': 'https://www.amazon.com/s?k=pants&page=1&qid=1730900756&ref=sr_pg_1',\n",
       " 'pants_2': 'https://www.amazon.com/s?k=pants&page=2&qid=1730900756&ref=sr_pg_2',\n",
       " 'pants_3': 'https://www.amazon.com/s?k=pants&page=3&qid=1730900756&ref=sr_pg_3',\n",
       " 'pants_4': 'https://www.amazon.com/s?k=pants&page=4&qid=1730900756&ref=sr_pg_4',\n",
       " 'pants_5': 'https://www.amazon.com/s?k=pants&page=5&qid=1730900756&ref=sr_pg_5',\n",
       " 'pants_6': 'https://www.amazon.com/s?k=pants&page=6&qid=1730900756&ref=sr_pg_6',\n",
       " 'pants_7': 'https://www.amazon.com/s?k=pants&page=7&qid=1730900756&ref=sr_pg_7',\n",
       " 'sunglasses_1': 'https://www.amazon.com/s?k=sunglasses&page=1&qid=1730900761&ref=sr_pg_1',\n",
       " 'sunglasses_2': 'https://www.amazon.com/s?k=sunglasses&page=2&qid=1730900761&ref=sr_pg_2',\n",
       " 'sunglasses_3': 'https://www.amazon.com/s?k=sunglasses&page=3&qid=1730900761&ref=sr_pg_3',\n",
       " 'sunglasses_4': 'https://www.amazon.com/s?k=sunglasses&page=4&qid=1730900761&ref=sr_pg_4',\n",
       " 'sunglasses_5': 'https://www.amazon.com/s?k=sunglasses&page=5&qid=1730900761&ref=sr_pg_5',\n",
       " 'sunglasses_6': 'https://www.amazon.com/s?k=sunglasses&page=6&qid=1730900761&ref=sr_pg_6',\n",
       " 'sunglasses_7': 'https://www.amazon.com/s?k=sunglasses&page=7&qid=1730900761&ref=sr_pg_7'}"
      ]
     },
     "execution_count": 146,
     "metadata": {},
     "output_type": "execute_result"
    }
   ],
   "source": [
    "def generate_links(results: list):\n",
    "    \"\"\"\n",
    "    Generate the n number of urls, for each keyword.\n",
    "    N is the number of pages in the pagination strip\n",
    "\n",
    "    Args:\n",
    "        results (list): url of search result\n",
    "\n",
    "    Returns:\n",
    "        dict: {keyword_n: url}\n",
    "    \"\"\"\n",
    "    \n",
    "    links = {}\n",
    "    for result in results:\n",
    "        page = requests.get(results[result], headers=headers)   #makes http request\n",
    "        soup = bs(page.content, 'html.parser')                  #parses http response\n",
    "        \n",
    "        pages = soup.find_all('span', class_= 's-pagination-item')                      #locates pagination element\n",
    "        pages_num = max([int(page.text) for page in pages if page.text.isdigit()])      #identifies number of pages   \n",
    "        pages_link_template = soup.find('a', class_= 's-pagination-item').get('href')   #extracts page's hyperlink from 'href' attribute\n",
    "        pages_link_num = re.search(r\"&page=(\\d+)\", pages_link_template)                 #locates page number argument within hyperlink using regex\n",
    "        \n",
    "        #replaces page number argument with hyperlink with numbers ranging 1 <= x <= pages_num \n",
    "        for i in range(1, pages_num + 1):                                               \n",
    "            # links = {\"https://www.amazon.com{0}_{1}\".format(result, i)] = pages_link_template.replace(pages_link_num.group(1), str(i))\n",
    "            links[\"{0}_{1}\".format(result, i)] = \"https://www.amazon.com{}\".format(pages_link_template.replace(pages_link_num.group(1), str(i))) \n",
    "        \n",
    "    return links\n",
    "g_links = generate_links(search)\n",
    "g_links\n"
   ]
  },
  {
   "cell_type": "code",
   "execution_count": null,
   "metadata": {},
   "outputs": [],
   "source": [
    "def scrape_links(links: dict):\n",
    "    \"\"\"\n",
    "    Webscrapes each of the supplied urls and parses relevant product information.\n",
    "\n",
    "    Args:\n",
    "        links (dict): list of urls to be scraped.\n",
    "\n",
    "    Returns:\n",
    "        pd.DataFrame: collection of products and relevant information.\n",
    "    \"\"\"\n",
    "    \n",
    "    cols = ['keyword', 'title', 'sale_price($)', 'anchor_price($)', \n",
    "            'ratings(5)', 'reviews', 'orders', 'scrape_datetime']  #product information\n",
    "    df = pd.DataFrame(columns=cols)                                         #initializing dataframe object \n",
    "    \n",
    "    for link in links:\n",
    "        try:\n",
    "            response = requests.get(links[link], headers=headers)           #making http request for url resource\n",
    "        except:\n",
    "            print(links[links], 'get request failed')\n",
    "            return None\n",
    "        \n",
    "        soup = bs(response.content, \"html.parser\")                          #parsing http request\n",
    "        products = soup.find_all('div', class_='puis-card-container')\n",
    "        \n",
    "        for product in products:\n",
    "            try:\n",
    "                title = product.find('span', class_=\"a-color-base\").text    #extracting product title\n",
    "            except:\n",
    "                title = ''\n",
    "            \n",
    "            try:\n",
    "                ratings = product.find('span', class_=\"a-icon-alt\").text    #extracting product rating\n",
    "                ratings = ratings.split(\" out\")[0]\n",
    "            except:\n",
    "                ratings = ''\n",
    "                \n",
    "            try:\n",
    "                rating_cnt = product.find('span', class_=\"a-size-base s-underline-text\").text       #extracting product review count\n",
    "                rating_cnt = rating_cnt.replace(\",\",\"\")\n",
    "            except:\n",
    "                rating_cnt = ''\n",
    "                \n",
    "            try:\n",
    "                purchase_cnt = product.find('span', class_=\"a-size-base a-color-secondary\").text    #extracting product order count\n",
    "                purchase_cnt = purchase_cnt.split(' bought')[0]\n",
    "                purchase_cnt = purchase_cnt.replace('K', '000')\n",
    "            except:\n",
    "                purchase_cnt = ''\n",
    "                \n",
    "            try:\n",
    "                price_whole = product.find('span', class_ = 'a-price-whole').text                   #extracting product sale price\n",
    "                price_fraction = product.find('span', class_='a-price-fraction' ).text\n",
    "                price = price_whole + price_fraction\n",
    "            except:\n",
    "                price = ''\n",
    "            \n",
    "            try:\n",
    "                old_price = product.find('span', class_ = 'a-offscreen').text                       #extracting product anchor price\n",
    "                old_price = old_price.split('$')[-1]\n",
    "            except:\n",
    "                old_price = ''\n",
    "            \n",
    "            product_info = [link.split('_')[0], title, price, \n",
    "                            old_price, ratings, rating_cnt, \n",
    "                            purchase_cnt, dt.now().strftime(\"%Y-%m-%d %H:%M:%S\")]                  #adding product info to dataframe\n",
    "            df.loc[len(df)] = product_info\n",
    "    return df"
   ]
  },
  {
   "cell_type": "code",
   "execution_count": 148,
   "metadata": {},
   "outputs": [],
   "source": [
    "data = scrape_links(g_links)"
   ]
  },
  {
   "cell_type": "code",
   "execution_count": 149,
   "metadata": {},
   "outputs": [
    {
     "data": {
      "text/html": [
       "<div>\n",
       "<style scoped>\n",
       "    .dataframe tbody tr th:only-of-type {\n",
       "        vertical-align: middle;\n",
       "    }\n",
       "\n",
       "    .dataframe tbody tr th {\n",
       "        vertical-align: top;\n",
       "    }\n",
       "\n",
       "    .dataframe thead th {\n",
       "        text-align: right;\n",
       "    }\n",
       "</style>\n",
       "<table border=\"1\" class=\"dataframe\">\n",
       "  <thead>\n",
       "    <tr style=\"text-align: right;\">\n",
       "      <th></th>\n",
       "      <th>keyword</th>\n",
       "      <th>title</th>\n",
       "      <th>sale_price($)</th>\n",
       "      <th>anchor_price($)</th>\n",
       "      <th>ratings(5)</th>\n",
       "      <th>reviews</th>\n",
       "      <th>orders</th>\n",
       "    </tr>\n",
       "  </thead>\n",
       "  <tbody>\n",
       "    <tr>\n",
       "      <th>0</th>\n",
       "      <td>pants</td>\n",
       "      <td>Amazon's Choice: Overall Pick</td>\n",
       "      <td>25.60</td>\n",
       "      <td>25.60</td>\n",
       "      <td>4.5</td>\n",
       "      <td>19156</td>\n",
       "      <td>600+</td>\n",
       "    </tr>\n",
       "    <tr>\n",
       "      <th>1</th>\n",
       "      <td>pants</td>\n",
       "      <td>PURE CHAMP Mens 3 Pack Fleece Active Athletic ...</td>\n",
       "      <td>39.99</td>\n",
       "      <td>39.99</td>\n",
       "      <td>4.2</td>\n",
       "      <td>13649</td>\n",
       "      <td>4000+</td>\n",
       "    </tr>\n",
       "    <tr>\n",
       "      <th>2</th>\n",
       "      <td>pants</td>\n",
       "      <td>Amazon Essentials Men's Classic-Fit Wrinkle-Re...</td>\n",
       "      <td>3.75</td>\n",
       "      <td>3.75</td>\n",
       "      <td>4.2</td>\n",
       "      <td>55310</td>\n",
       "      <td>2000+</td>\n",
       "    </tr>\n",
       "    <tr>\n",
       "      <th>3</th>\n",
       "      <td>pants</td>\n",
       "      <td>G Gradual Men's Sweatpants with Zipper Pockets...</td>\n",
       "      <td>29.99</td>\n",
       "      <td>29.99</td>\n",
       "      <td>4.5</td>\n",
       "      <td>8074</td>\n",
       "      <td>3000+</td>\n",
       "    </tr>\n",
       "    <tr>\n",
       "      <th>4</th>\n",
       "      <td>pants</td>\n",
       "      <td>AUTOMET Womens Cargo Sweatpants Oversized Flee...</td>\n",
       "      <td>32.99</td>\n",
       "      <td>32.99</td>\n",
       "      <td>4.4</td>\n",
       "      <td>478</td>\n",
       "      <td>800+</td>\n",
       "    </tr>\n",
       "  </tbody>\n",
       "</table>\n",
       "</div>"
      ],
      "text/plain": [
       "  keyword                                              title sale_price($)  \\\n",
       "0   pants                      Amazon's Choice: Overall Pick         25.60   \n",
       "1   pants  PURE CHAMP Mens 3 Pack Fleece Active Athletic ...         39.99   \n",
       "2   pants  Amazon Essentials Men's Classic-Fit Wrinkle-Re...          3.75   \n",
       "3   pants  G Gradual Men's Sweatpants with Zipper Pockets...         29.99   \n",
       "4   pants  AUTOMET Womens Cargo Sweatpants Oversized Flee...         32.99   \n",
       "\n",
       "  anchor_price($) ratings(5) reviews orders  \n",
       "0           25.60        4.5   19156   600+  \n",
       "1           39.99        4.2   13649  4000+  \n",
       "2            3.75        4.2   55310  2000+  \n",
       "3           29.99        4.5    8074  3000+  \n",
       "4           32.99        4.4     478   800+  "
      ]
     },
     "execution_count": 149,
     "metadata": {},
     "output_type": "execute_result"
    }
   ],
   "source": [
    "data.head()"
   ]
  },
  {
   "cell_type": "code",
   "execution_count": 150,
   "metadata": {},
   "outputs": [
    {
     "data": {
      "text/html": [
       "<div>\n",
       "<style scoped>\n",
       "    .dataframe tbody tr th:only-of-type {\n",
       "        vertical-align: middle;\n",
       "    }\n",
       "\n",
       "    .dataframe tbody tr th {\n",
       "        vertical-align: top;\n",
       "    }\n",
       "\n",
       "    .dataframe thead th {\n",
       "        text-align: right;\n",
       "    }\n",
       "</style>\n",
       "<table border=\"1\" class=\"dataframe\">\n",
       "  <thead>\n",
       "    <tr style=\"text-align: right;\">\n",
       "      <th></th>\n",
       "      <th>keyword</th>\n",
       "      <th>title</th>\n",
       "      <th>sale_price($)</th>\n",
       "      <th>anchor_price($)</th>\n",
       "      <th>ratings(5)</th>\n",
       "      <th>reviews</th>\n",
       "      <th>orders</th>\n",
       "    </tr>\n",
       "  </thead>\n",
       "  <tbody>\n",
       "    <tr>\n",
       "      <th>0</th>\n",
       "      <td>pants</td>\n",
       "      <td>Amazon's Choice: Overall Pick</td>\n",
       "      <td>25.60</td>\n",
       "      <td>25.60</td>\n",
       "      <td>4.5</td>\n",
       "      <td>19156</td>\n",
       "      <td>600+</td>\n",
       "    </tr>\n",
       "    <tr>\n",
       "      <th>1</th>\n",
       "      <td>pants</td>\n",
       "      <td>PURE CHAMP Mens 3 Pack Fleece Active Athletic ...</td>\n",
       "      <td>39.99</td>\n",
       "      <td>39.99</td>\n",
       "      <td>4.2</td>\n",
       "      <td>13649</td>\n",
       "      <td>4000+</td>\n",
       "    </tr>\n",
       "    <tr>\n",
       "      <th>2</th>\n",
       "      <td>pants</td>\n",
       "      <td>Amazon Essentials Men's Classic-Fit Wrinkle-Re...</td>\n",
       "      <td>3.75</td>\n",
       "      <td>3.75</td>\n",
       "      <td>4.2</td>\n",
       "      <td>55310</td>\n",
       "      <td>2000+</td>\n",
       "    </tr>\n",
       "    <tr>\n",
       "      <th>3</th>\n",
       "      <td>pants</td>\n",
       "      <td>G Gradual Men's Sweatpants with Zipper Pockets...</td>\n",
       "      <td>29.99</td>\n",
       "      <td>29.99</td>\n",
       "      <td>4.5</td>\n",
       "      <td>8074</td>\n",
       "      <td>3000+</td>\n",
       "    </tr>\n",
       "    <tr>\n",
       "      <th>4</th>\n",
       "      <td>pants</td>\n",
       "      <td>AUTOMET Womens Cargo Sweatpants Oversized Flee...</td>\n",
       "      <td>32.99</td>\n",
       "      <td>32.99</td>\n",
       "      <td>4.4</td>\n",
       "      <td>478</td>\n",
       "      <td>800+</td>\n",
       "    </tr>\n",
       "  </tbody>\n",
       "</table>\n",
       "</div>"
      ],
      "text/plain": [
       "  keyword                                              title sale_price($)  \\\n",
       "0   pants                      Amazon's Choice: Overall Pick         25.60   \n",
       "1   pants  PURE CHAMP Mens 3 Pack Fleece Active Athletic ...         39.99   \n",
       "2   pants  Amazon Essentials Men's Classic-Fit Wrinkle-Re...          3.75   \n",
       "3   pants  G Gradual Men's Sweatpants with Zipper Pockets...         29.99   \n",
       "4   pants  AUTOMET Womens Cargo Sweatpants Oversized Flee...         32.99   \n",
       "\n",
       "  anchor_price($) ratings(5) reviews orders  \n",
       "0           25.60        4.5   19156   600+  \n",
       "1           39.99        4.2   13649  4000+  \n",
       "2            3.75        4.2   55310  2000+  \n",
       "3           29.99        4.5    8074  3000+  \n",
       "4           32.99        4.4     478   800+  "
      ]
     },
     "execution_count": 150,
     "metadata": {},
     "output_type": "execute_result"
    }
   ],
   "source": [
    "data_c = data.copy()    #making a backup of dataframe \n",
    "data_c.head()"
   ]
  },
  {
   "cell_type": "code",
   "execution_count": 151,
   "metadata": {},
   "outputs": [
    {
     "data": {
      "text/plain": [
       "['sale_price($)', 'anchor_price($)', 'ratings(5)', 'reviews']"
      ]
     },
     "execution_count": 151,
     "metadata": {},
     "output_type": "execute_result"
    }
   ],
   "source": [
    "num_cols = [col for col in data_c.columns if col not in ['keyword', 'title', 'orders']] #highlighting numerical attributes\n",
    "num_cols"
   ]
  },
  {
   "cell_type": "code",
   "execution_count": 152,
   "metadata": {},
   "outputs": [
    {
     "data": {
      "text/plain": [
       "keyword             object\n",
       "title               object\n",
       "sale_price($)      float64\n",
       "anchor_price($)    float64\n",
       "ratings(5)         float64\n",
       "reviews            float64\n",
       "orders              object\n",
       "dtype: object"
      ]
     },
     "execution_count": 152,
     "metadata": {},
     "output_type": "execute_result"
    }
   ],
   "source": [
    "for col in num_cols:                            #parsing numerical attributes\n",
    "    data_c[col] = (\n",
    "                    data_c[col]\n",
    "                    .astype(str)                # Convert all values to strings\n",
    "                    .replace('', np.nan)        # Replace empty strings with NaN\n",
    "                    .str.replace(',', '')       # Remove thousand separators\n",
    "    .astype(float) \n",
    "    )\n",
    "data_c.dtypes\n"
   ]
  },
  {
   "cell_type": "code",
   "execution_count": 153,
   "metadata": {},
   "outputs": [
    {
     "data": {
      "text/plain": [
       "0       600+\n",
       "1      4000+\n",
       "2      2000+\n",
       "3      3000+\n",
       "4       800+\n",
       "       ...  \n",
       "612      50+\n",
       "613      NaN\n",
       "614      NaN\n",
       "615     100+\n",
       "616     100+\n",
       "Name: orders, Length: 617, dtype: object"
      ]
     },
     "execution_count": 153,
     "metadata": {},
     "output_type": "execute_result"
    }
   ],
   "source": [
    "data_c['orders'] = data_c['orders'].map(lambda x: x if x.endswith('+') else np.nan) #standardizing orders attribute\n",
    "data_c['orders']"
   ]
  },
  {
   "cell_type": "code",
   "execution_count": 154,
   "metadata": {},
   "outputs": [
    {
     "data": {
      "text/plain": [
       "keyword             object\n",
       "title               object\n",
       "sale_price($)      float64\n",
       "anchor_price($)    float64\n",
       "ratings(5)         float64\n",
       "reviews            float64\n",
       "orders              object\n",
       "dtype: object"
      ]
     },
     "execution_count": 154,
     "metadata": {},
     "output_type": "execute_result"
    }
   ],
   "source": [
    "data_c.dtypes"
   ]
  },
  {
   "cell_type": "code",
   "execution_count": 155,
   "metadata": {},
   "outputs": [],
   "source": [
    "data_c.to_csv('amazon_search.csv', index=None)  #downloading dataframe into csv file"
   ]
  },
  {
   "cell_type": "code",
   "execution_count": 161,
   "metadata": {},
   "outputs": [],
   "source": [
    "if data_c.to_csv('amazon_search.csv', index=None):  #downloading dataframe into csv file\n",
    "    print('successful')"
   ]
  },
  {
   "cell_type": "code",
   "execution_count": 163,
   "metadata": {},
   "outputs": [
    {
     "data": {
      "text/plain": [
       "True"
      ]
     },
     "execution_count": 163,
     "metadata": {},
     "output_type": "execute_result"
    }
   ],
   "source": [
    "'.csv' in 'amazon_search.csv'"
   ]
  },
  {
   "cell_type": "code",
   "execution_count": null,
   "metadata": {},
   "outputs": [],
   "source": []
  }
 ],
 "metadata": {
  "kernelspec": {
   "display_name": "Python 3",
   "language": "python",
   "name": "python3"
  },
  "language_info": {
   "codemirror_mode": {
    "name": "ipython",
    "version": 3
   },
   "file_extension": ".py",
   "mimetype": "text/x-python",
   "name": "python",
   "nbconvert_exporter": "python",
   "pygments_lexer": "ipython3",
   "version": "3.11.0"
  }
 },
 "nbformat": 4,
 "nbformat_minor": 2
}
